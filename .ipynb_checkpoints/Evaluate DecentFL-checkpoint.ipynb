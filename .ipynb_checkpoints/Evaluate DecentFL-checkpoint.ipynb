{
 "cells": [
  {
   "cell_type": "markdown",
   "metadata": {},
   "source": [
    "# Evaluations"
   ]
  },
  {
   "cell_type": "markdown",
   "metadata": {
    "heading_collapsed": true
   },
   "source": [
    "## Installs"
   ]
  },
  {
   "cell_type": "code",
   "execution_count": 36,
   "metadata": {
    "hidden": true
   },
   "outputs": [
    {
     "name": "stdout",
     "output_type": "stream",
     "text": [
      "Collecting tqdm\n",
      "  Downloading tqdm-4.53.0-py2.py3-none-any.whl (70 kB)\n",
      "\u001b[K     |████████████████████████████████| 70 kB 1.5 MB/s eta 0:00:01\n",
      "\u001b[?25hInstalling collected packages: tqdm\n",
      "Successfully installed tqdm-4.53.0\n",
      "\u001b[33mWARNING: You are using pip version 20.2.1; however, version 20.2.4 is available.\n",
      "You should consider upgrading via the '/Users/phillip/.local/share/virtualenvs/actix-telepathy-syeEGSfw/bin/python -m pip install --upgrade pip' command.\u001b[0m\n",
      "Note: you may need to restart the kernel to use updated packages.\n"
     ]
    }
   ],
   "source": [
    "pip install tqdm"
   ]
  },
  {
   "cell_type": "markdown",
   "metadata": {
    "heading_collapsed": true
   },
   "source": [
    "## Imports"
   ]
  },
  {
   "cell_type": "code",
   "execution_count": 37,
   "metadata": {
    "hidden": true
   },
   "outputs": [],
   "source": [
    "%matplotlib inline\n",
    "import pandas as pd\n",
    "import sqlite3\n",
    "import matplotlib.pyplot as plt\n",
    "import tqdm"
   ]
  },
  {
   "cell_type": "code",
   "execution_count": 38,
   "metadata": {
    "hidden": true
   },
   "outputs": [],
   "source": [
    "plt.rcParams[\"figure.figsize\"] = (15, 10)"
   ]
  },
  {
   "cell_type": "markdown",
   "metadata": {
    "heading_collapsed": true
   },
   "source": [
    "## Helper Functions"
   ]
  },
  {
   "cell_type": "code",
   "execution_count": 63,
   "metadata": {
    "hidden": true
   },
   "outputs": [],
   "source": [
    "def load_data(where: str) -> (pd.DataFrame, pd.DataFrame):\n",
    "    conn = sqlite3.connect(\"global_db.db\")\n",
    "    print(\"Load data from database\")\n",
    "    eva = pd.read_sql(f\"select exp.*, eva.* from experiments as exp, evaluations as eva where exp.id = eva.experiment_id and exp.rank = eva.rank and {where}\", conn)\n",
    "    eva = eva.loc[:,~eva.columns.duplicated()]\n",
    "    for experiment_id in tqdm.notebook.tqdm(eva.experiment_id.unique(), desc=\"Transform timestamps to relative time\"):\n",
    "        for rank in eva[\"rank\"].unique():\n",
    "            select = (eva.experiment_id == experiment_id) & (eva[\"rank\"] == rank)\n",
    "            start_time = eva[select].timestamp.min()\n",
    "            eva.loc[select, \"timestamp\"] = eva.loc[select, \"timestamp\"] - start_time\n",
    "    print(\"Aggregate data\")\n",
    "    eva_mean = eva.groupby([\"update_every\", \"group_size\", \"step\"]).mean()[[\"value\", \"timestamp\"]]\n",
    "    eva_mean.reset_index(inplace=True)\n",
    "    eva_std = eva.groupby([\"update_every\", \"group_size\", \"step\"]).std()[[\"value\", \"timestamp\"]]\n",
    "    eva_std.reset_index(inplace=True)\n",
    "    return eva_mean, eva_std"
   ]
  },
  {
   "cell_type": "markdown",
   "metadata": {},
   "source": [
    "# Plots"
   ]
  },
  {
   "cell_type": "code",
   "execution_count": 64,
   "metadata": {},
   "outputs": [],
   "source": [
    "from ipywidgets import interact, IntSlider"
   ]
  },
  {
   "cell_type": "code",
   "execution_count": 65,
   "metadata": {},
   "outputs": [
    {
     "name": "stdout",
     "output_type": "stream",
     "text": [
      "Load data from database\n"
     ]
    },
    {
     "data": {
      "application/vnd.jupyter.widget-view+json": {
       "model_id": "a9098690879c4185b0e07c47c0dde794",
       "version_major": 2,
       "version_minor": 0
      },
      "text/plain": [
       "HBox(children=(HTML(value='Transform timestamps to relative time'), FloatProgress(value=0.0, max=18.0), HTML(v…"
      ]
     },
     "metadata": {},
     "output_type": "display_data"
    },
    {
     "name": "stdout",
     "output_type": "stream",
     "text": [
      "\n",
      "Aggregate data\n"
     ]
    }
   ],
   "source": [
    "eva_mean, eva_std = load_data(where=\"group_size <= 5\")"
   ]
  },
  {
   "cell_type": "markdown",
   "metadata": {
    "heading_collapsed": true
   },
   "source": [
    "## Single"
   ]
  },
  {
   "cell_type": "code",
   "execution_count": 53,
   "metadata": {
    "hidden": true
   },
   "outputs": [
    {
     "data": {
      "application/vnd.jupyter.widget-view+json": {
       "model_id": "03201f94dbad405db513a1ea2f5b955f",
       "version_major": 2,
       "version_minor": 0
      },
      "text/plain": [
       "interactive(children=(IntSlider(value=1, description='update_every', max=5, min=1), IntSlider(value=3, descrip…"
      ]
     },
     "metadata": {},
     "output_type": "display_data"
    }
   ],
   "source": [
    "@interact\n",
    "def plot(\n",
    "    update_every=IntSlider(min=eva_mean.update_every.min(), max=eva_mean.update_every.max()),\n",
    "    group_size=IntSlider(min=eva_mean.group_size.min(), max=eva_mean.group_size.max()),\n",
    "    timestamp=False\n",
    "):\n",
    "    data = eva_mean[(eva_mean.update_every == update_every) & (eva_mean.group_size == group_size)]\n",
    "    data_std = eva_std[(eva_std.update_every == update_every) & (eva_std.group_size == group_size)]\n",
    "    x = data.timestamp if timestamp else data.step\n",
    "    plt.plot(x, data.value)\n",
    "    plt.fill_between(x, data.value - data_std.value, data.value + data_std.value, alpha=0.3)\n",
    "    plt.title(f\"update every {update_every} epochs with group size {group_size}\")\n",
    "    plt.xlabel(\"Seconds\" if timestamp else \"Epoch\")\n",
    "    plt.ylabel(\"Test Accuracy\")\n",
    "    plt.show()"
   ]
  },
  {
   "cell_type": "markdown",
   "metadata": {
    "heading_collapsed": true
   },
   "source": [
    "## Update Every"
   ]
  },
  {
   "cell_type": "code",
   "execution_count": 66,
   "metadata": {
    "hidden": true
   },
   "outputs": [
    {
     "data": {
      "application/vnd.jupyter.widget-view+json": {
       "model_id": "d0d800dde4264263a543d972b3ba11a9",
       "version_major": 2,
       "version_minor": 0
      },
      "text/plain": [
       "interactive(children=(IntSlider(value=3, description='group_size', max=5, min=3), Checkbox(value=False, descri…"
      ]
     },
     "metadata": {},
     "output_type": "display_data"
    }
   ],
   "source": [
    "@interact\n",
    "def plot(\n",
    "    group_size=IntSlider(min=eva_mean.group_size.min(), max=eva_mean.group_size.max()),\n",
    "    timestamp=False\n",
    "):\n",
    "    for update_every in eva_mean.update_every.unique():\n",
    "        data = eva_mean[(eva_mean.update_every == update_every) & (eva_mean.group_size == group_size)]\n",
    "        data_std = eva_std[(eva_std.update_every == update_every) & (eva_std.group_size == group_size)]\n",
    "        x = data.timestamp if timestamp else data.step\n",
    "        plt.plot(x, data.value, label=update_every)\n",
    "        plt.fill_between(x, data.value - data_std.value, data.value + data_std.value, alpha=0.3)\n",
    "    plt.title(f\"update every nth epochs with group size {group_size}\")\n",
    "    plt.xlabel(\"Seconds\" if timestamp else \"Epoch\")\n",
    "    plt.ylabel(\"Test Accuracy\")\n",
    "    plt.legend()\n",
    "    plt.show()"
   ]
  },
  {
   "cell_type": "markdown",
   "metadata": {
    "heading_collapsed": true
   },
   "source": [
    "## Group Size"
   ]
  },
  {
   "cell_type": "code",
   "execution_count": 67,
   "metadata": {
    "hidden": true,
    "scrolled": false
   },
   "outputs": [
    {
     "data": {
      "application/vnd.jupyter.widget-view+json": {
       "model_id": "65ef930733fb49ccb8e2e66c0b0d5544",
       "version_major": 2,
       "version_minor": 0
      },
      "text/plain": [
       "interactive(children=(IntSlider(value=1, description='update_every', max=5, min=1), Checkbox(value=False, desc…"
      ]
     },
     "metadata": {},
     "output_type": "display_data"
    }
   ],
   "source": [
    "@interact\n",
    "def plot(\n",
    "    update_every=IntSlider(min=eva_mean.update_every.min(), max=eva_mean.update_every.max()),\n",
    "    timestamp=False\n",
    "):\n",
    "    for group_size in eva_mean.group_size.unique():\n",
    "        data = eva_mean[(eva_mean.update_every == update_every) & (eva_mean.group_size == group_size)]\n",
    "        data_std = eva_std[(eva_std.update_every == update_every) & (eva_std.group_size == group_size)]\n",
    "        x = data.timestamp if timestamp else data.step\n",
    "        plt.plot(x, data.value, label=group_size)\n",
    "        plt.fill_between(x, data.value - data_std.value, data.value + data_std.value, alpha=0.3)\n",
    "    plt.title(f\"update every {update_every} epochs with group size n\")\n",
    "    plt.xlabel(\"Seconds\" if timestamp else \"Epoch\")\n",
    "    plt.ylabel(\"Test Accuracy\")\n",
    "    plt.legend()\n",
    "    plt.show()"
   ]
  },
  {
   "cell_type": "markdown",
   "metadata": {
    "heading_collapsed": true
   },
   "source": [
    "## Less Updates"
   ]
  },
  {
   "cell_type": "code",
   "execution_count": 73,
   "metadata": {
    "hidden": true
   },
   "outputs": [
    {
     "name": "stdout",
     "output_type": "stream",
     "text": [
      "Load data from database\n"
     ]
    },
    {
     "data": {
      "application/vnd.jupyter.widget-view+json": {
       "model_id": "3eb1b6677d6c4ac38c0773f41344d9c7",
       "version_major": 2,
       "version_minor": 0
      },
      "text/plain": [
       "HBox(children=(HTML(value='Transform timestamps to relative time'), FloatProgress(value=0.0, max=27.0), HTML(v…"
      ]
     },
     "metadata": {},
     "output_type": "display_data"
    },
    {
     "name": "stdout",
     "output_type": "stream",
     "text": [
      "\n",
      "Aggregate data\n"
     ]
    }
   ],
   "source": [
    "eva_mean, eva_std = load_data(where=\"group_size > 5 and update_every > 5\")"
   ]
  },
  {
   "cell_type": "code",
   "execution_count": 74,
   "metadata": {
    "hidden": true
   },
   "outputs": [
    {
     "data": {
      "application/vnd.jupyter.widget-view+json": {
       "model_id": "decaaf584a554b2e970ab54360554076",
       "version_major": 2,
       "version_minor": 0
      },
      "text/plain": [
       "interactive(children=(IntSlider(value=6, description='group_size', max=8, min=6), Checkbox(value=False, descri…"
      ]
     },
     "metadata": {},
     "output_type": "display_data"
    }
   ],
   "source": [
    "@interact\n",
    "def plot(\n",
    "    group_size=IntSlider(min=eva_mean.group_size.min(), max=eva_mean.group_size.max()),\n",
    "    timestamp=False\n",
    "):\n",
    "    for update_every in eva_mean.update_every.unique():\n",
    "        data = eva_mean[(eva_mean.update_every == update_every) & (eva_mean.group_size == group_size)]\n",
    "        data_std = eva_std[(eva_std.update_every == update_every) & (eva_std.group_size == group_size)]\n",
    "        x = data.timestamp if timestamp else data.step\n",
    "        plt.plot(x, data.value, label=update_every)\n",
    "        plt.fill_between(x, data.value - data_std.value, data.value + data_std.value, alpha=0.3)\n",
    "    plt.title(f\"update every nth epochs with group size {group_size}\")\n",
    "    plt.xlabel(\"Seconds\" if timestamp else \"Epoch\")\n",
    "    plt.ylabel(\"Test Accuracy\")\n",
    "    plt.legend()\n",
    "    plt.show()"
   ]
  },
  {
   "cell_type": "markdown",
   "metadata": {
    "heading_collapsed": true
   },
   "source": [
    "## Bigger Groups"
   ]
  },
  {
   "cell_type": "code",
   "execution_count": 75,
   "metadata": {
    "hidden": true
   },
   "outputs": [
    {
     "data": {
      "application/vnd.jupyter.widget-view+json": {
       "model_id": "a2fb273aeee5461b874166ebf7a04fa8",
       "version_major": 2,
       "version_minor": 0
      },
      "text/plain": [
       "interactive(children=(IntSlider(value=7, description='update_every', max=15, min=7), Checkbox(value=False, des…"
      ]
     },
     "metadata": {},
     "output_type": "display_data"
    }
   ],
   "source": [
    "@interact\n",
    "def plot(\n",
    "    update_every=IntSlider(min=eva_mean.update_every.min(), max=eva_mean.update_every.max()),\n",
    "    timestamp=False\n",
    "):\n",
    "    for group_size in eva_mean.group_size.unique():\n",
    "        data = eva_mean[(eva_mean.update_every == update_every) & (eva_mean.group_size == group_size)]\n",
    "        data_std = eva_std[(eva_std.update_every == update_every) & (eva_std.group_size == group_size)]\n",
    "        x = data.timestamp if timestamp else data.step\n",
    "        plt.plot(x, data.value, label=group_size)\n",
    "        plt.fill_between(x, data.value - data_std.value, data.value + data_std.value, alpha=0.3)\n",
    "    plt.title(f\"update every {update_every} epochs with group size n\")\n",
    "    plt.xlabel(\"Seconds\" if timestamp else \"Epoch\")\n",
    "    plt.ylabel(\"Test Accuracy\")\n",
    "    plt.legend()\n",
    "    plt.show()"
   ]
  },
  {
   "cell_type": "code",
   "execution_count": null,
   "metadata": {
    "hidden": true
   },
   "outputs": [],
   "source": []
  }
 ],
 "metadata": {
  "kernelspec": {
   "display_name": "actix-telepatyh",
   "language": "python",
   "name": "actix-telepatyh"
  },
  "language_info": {
   "codemirror_mode": {
    "name": "ipython",
    "version": 3
   },
   "file_extension": ".py",
   "mimetype": "text/x-python",
   "name": "python",
   "nbconvert_exporter": "python",
   "pygments_lexer": "ipython3",
   "version": "3.7.8"
  }
 },
 "nbformat": 4,
 "nbformat_minor": 4
}
