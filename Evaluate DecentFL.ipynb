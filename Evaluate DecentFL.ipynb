{
 "cells": [
  {
   "cell_type": "code",
   "execution_count": 1,
   "metadata": {},
   "outputs": [],
   "source": [
    "%matplotlib inline\n",
    "import pandas as pd\n",
    "import sqlite3\n",
    "import matplotlib.pyplot as plt"
   ]
  },
  {
   "cell_type": "code",
   "execution_count": 2,
   "metadata": {},
   "outputs": [],
   "source": [
    "plt.rcParams[\"figure.figsize\"] = (15, 10)"
   ]
  },
  {
   "cell_type": "code",
   "execution_count": 49,
   "metadata": {},
   "outputs": [],
   "source": [
    "conn = sqlite3.connect(\"results/decentfl.1.db\")\n",
    "\n",
    "exp = pd.read_sql(\"select * from experiments;\", conn)\n",
    "eva = pd.read_sql(\"select exp.*, eva.* from experiments as exp, evaluations as eva where exp.id = eva.experiment_id\", conn)"
   ]
  },
  {
   "cell_type": "code",
   "execution_count": 50,
   "metadata": {},
   "outputs": [],
   "source": [
    "time_mins = eva.groupby(list(set(exp.columns) - set([\"id\", \"\"]))).min()[[\"timestamp\"]].reset_index(inplace=False)\n",
    "eva[\"timestamp\"] = eva.transpose().apply(lambda x: x[\"timestamp\"] - time_mins[(time_mins.group_size == x[\"group_size\"]) & (time_mins.update_every == x[\"update_every\"]) & (time_mins.seed == x[\"seed\"])][\"timestamp\"].values[0])"
   ]
  },
  {
   "cell_type": "code",
   "execution_count": 52,
   "metadata": {},
   "outputs": [],
   "source": [
    "eva_mean = eva.groupby([\"update_every\", \"group_size\", \"step\"]).mean()[[\"value\", \"timestamp\"]]\n",
    "eva_mean.reset_index(inplace=True)\n",
    "eva_std = eva.groupby([\"update_every\", \"group_size\", \"step\"]).std()[[\"value\", \"timestamp\"]]\n",
    "eva_std.reset_index(inplace=True)"
   ]
  },
  {
   "cell_type": "code",
   "execution_count": 53,
   "metadata": {},
   "outputs": [],
   "source": [
    "from ipywidgets import interact, IntSlider"
   ]
  },
  {
   "cell_type": "markdown",
   "metadata": {},
   "source": [
    "# Single"
   ]
  },
  {
   "cell_type": "code",
   "execution_count": 55,
   "metadata": {},
   "outputs": [
    {
     "data": {
      "application/vnd.jupyter.widget-view+json": {
       "model_id": "fa8971e81c2d471e83ea63fae4c6a238",
       "version_major": 2,
       "version_minor": 0
      },
      "text/plain": [
       "interactive(children=(IntSlider(value=1, description='update_every', max=5, min=1), IntSlider(value=3, descrip…"
      ]
     },
     "metadata": {},
     "output_type": "display_data"
    }
   ],
   "source": [
    "@interact\n",
    "def plot(\n",
    "    update_every=IntSlider(min=eva_mean.update_every.min(), max=eva_mean.update_every.max()),\n",
    "    group_size=IntSlider(min=eva_mean.group_size.min(), max=eva_mean.group_size.max()),\n",
    "    timestamp=False\n",
    "):\n",
    "    data = eva_mean[(eva_mean.update_every == update_every) & (eva_mean.group_size == group_size)]\n",
    "    data_std = eva_std[(eva_std.update_every == update_every) & (eva_std.group_size == group_size)]\n",
    "    x = data.timestamp if timestamp else data.step\n",
    "    plt.plot(x, data.value)\n",
    "    plt.fill_between(x, data.value - data_std.value, data.value + data_std.value, alpha=0.3)\n",
    "    plt.title(f\"update every {update_every} epochs with group size {group_size}\")\n",
    "    plt.xlabel(\"Seconds\" if timestamp else \"Epoch\")\n",
    "    plt.ylabel(\"Test Accuracy\")\n",
    "    plt.legend()\n",
    "    plt.show()"
   ]
  },
  {
   "cell_type": "markdown",
   "metadata": {},
   "source": [
    "# Update Every"
   ]
  },
  {
   "cell_type": "code",
   "execution_count": 56,
   "metadata": {},
   "outputs": [
    {
     "data": {
      "application/vnd.jupyter.widget-view+json": {
       "model_id": "9b23447a2bfc4911aa015eb72b5ce44a",
       "version_major": 2,
       "version_minor": 0
      },
      "text/plain": [
       "interactive(children=(IntSlider(value=3, description='group_size', max=9, min=3), Checkbox(value=False, descri…"
      ]
     },
     "metadata": {},
     "output_type": "display_data"
    }
   ],
   "source": [
    "@interact\n",
    "def plot(\n",
    "    group_size=IntSlider(min=eva_mean.group_size.min(), max=eva_mean.group_size.max()),\n",
    "    timestamp=False\n",
    "):\n",
    "    for update_every in eva_mean.update_every.unique():\n",
    "        data = eva_mean[(eva_mean.update_every == update_every) & (eva_mean.group_size == group_size)]\n",
    "        data_std = eva_std[(eva_std.update_every == update_every) & (eva_std.group_size == group_size)]\n",
    "        x = data.timestamp if timestamp else data.step\n",
    "        plt.plot(x, data.value, label=update_every)\n",
    "        plt.fill_between(x, data.value - data_std.value, data.value + data_std.value, alpha=0.3)\n",
    "    plt.title(f\"update every nth epochs with group size {group_size}\")\n",
    "    plt.xlabel(\"Seconds\" if timestamp else \"Epoch\")\n",
    "    plt.ylabel(\"Test Accuracy\")\n",
    "    plt.legend()\n",
    "    plt.show()"
   ]
  },
  {
   "cell_type": "markdown",
   "metadata": {},
   "source": [
    "# Group Size"
   ]
  },
  {
   "cell_type": "code",
   "execution_count": 57,
   "metadata": {
    "scrolled": false
   },
   "outputs": [
    {
     "data": {
      "application/vnd.jupyter.widget-view+json": {
       "model_id": "29e75065077a4022877d6745d66975fb",
       "version_major": 2,
       "version_minor": 0
      },
      "text/plain": [
       "interactive(children=(IntSlider(value=1, description='update_every', max=5, min=1), Checkbox(value=False, desc…"
      ]
     },
     "metadata": {},
     "output_type": "display_data"
    }
   ],
   "source": [
    "@interact\n",
    "def plot(\n",
    "    update_every=IntSlider(min=eva_mean.update_every.min(), max=eva_mean.update_every.max()),\n",
    "    timestamp=False\n",
    "):\n",
    "    for group_size in eva_mean.group_size.unique():\n",
    "        data = eva_mean[(eva_mean.update_every == update_every) & (eva_mean.group_size == group_size)]\n",
    "        data_std = eva_std[(eva_std.update_every == update_every) & (eva_std.group_size == group_size)]\n",
    "        x = data.timestamp if timestamp else data.step\n",
    "        plt.plot(x, data.value, label=group_size)\n",
    "        plt.fill_between(x, data.value - data_std.value, data.value + data_std.value, alpha=0.3)\n",
    "    plt.title(f\"update every {update_every} epochs with group size n\")\n",
    "    plt.xlabel(\"Seconds\" if timestamp else \"Epoch\")\n",
    "    plt.ylabel(\"Test Accuracy\")\n",
    "    plt.legend()\n",
    "    plt.show()"
   ]
  },
  {
   "cell_type": "code",
   "execution_count": null,
   "metadata": {},
   "outputs": [],
   "source": []
  }
 ],
 "metadata": {
  "kernelspec": {
   "display_name": "Python 3",
   "language": "python",
   "name": "python3"
  },
  "language_info": {
   "codemirror_mode": {
    "name": "ipython",
    "version": 3
   },
   "file_extension": ".py",
   "mimetype": "text/x-python",
   "name": "python",
   "nbconvert_exporter": "python",
   "pygments_lexer": "ipython3",
   "version": "3.7.9"
  }
 },
 "nbformat": 4,
 "nbformat_minor": 4
}
