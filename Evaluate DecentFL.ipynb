{
 "cells": [
  {
   "cell_type": "markdown",
   "metadata": {},
   "source": [
    "# Evaluations"
   ]
  },
  {
   "cell_type": "markdown",
   "metadata": {
    "heading_collapsed": true
   },
   "source": [
    "## Installs"
   ]
  },
  {
   "cell_type": "code",
   "execution_count": 3,
   "metadata": {
    "hidden": true
   },
   "outputs": [
    {
     "name": "stdout",
     "output_type": "stream",
     "text": [
      "Collecting tqdm\n",
      "  Downloading tqdm-4.54.1-py2.py3-none-any.whl (69 kB)\n",
      "\u001b[K     |████████████████████████████████| 69 kB 1.7 MB/s eta 0:00:011\n",
      "\u001b[?25hInstalling collected packages: tqdm\n",
      "Successfully installed tqdm-4.54.1\n",
      "\u001b[33mWARNING: You are using pip version 20.2.3; however, version 20.3.1 is available.\n",
      "You should consider upgrading via the '/home/phillip/.local/share/virtualenvs/actix-telepathy-QCL14L7Z/bin/python -m pip install --upgrade pip' command.\u001b[0m\n",
      "Note: you may need to restart the kernel to use updated packages.\n"
     ]
    }
   ],
   "source": [
    "pip install tqdm"
   ]
  },
  {
   "cell_type": "markdown",
   "metadata": {},
   "source": [
    "## Imports"
   ]
  },
  {
   "cell_type": "code",
   "execution_count": 1,
   "metadata": {},
   "outputs": [],
   "source": [
    "%matplotlib inline\n",
    "import pandas as pd\n",
    "import sqlite3\n",
    "import matplotlib.pyplot as plt\n",
    "import tqdm"
   ]
  },
  {
   "cell_type": "code",
   "execution_count": 2,
   "metadata": {},
   "outputs": [],
   "source": [
    "plt.rcParams[\"figure.figsize\"] = (15, 10)"
   ]
  },
  {
   "cell_type": "markdown",
   "metadata": {},
   "source": [
    "## Helper Functions"
   ]
  },
  {
   "cell_type": "code",
   "execution_count": 3,
   "metadata": {},
   "outputs": [],
   "source": [
    "def load_data(where: str) -> (pd.DataFrame, pd.DataFrame):\n",
    "    conn = sqlite3.connect(\"global_db.db\")\n",
    "    print(\"Load data from database\")\n",
    "    eva = pd.read_sql(f\"select exp.*, eva.* from experiments as exp, evaluations as eva where exp.id = eva.experiment_id and exp.rank = eva.rank and {where}\", conn)\n",
    "    eva = eva.loc[:,~eva.columns.duplicated()]\n",
    "    for experiment_id in tqdm.tqdm_notebook(eva.experiment_id.unique(), desc=\"Transform timestamps to relative time\"):\n",
    "        for rank in eva[\"rank\"].unique():\n",
    "            select = (eva.experiment_id == experiment_id) & (eva[\"rank\"] == rank)\n",
    "            start_time = eva[select].timestamp.min()\n",
    "            eva.loc[select, \"timestamp\"] = eva.loc[select, \"timestamp\"] - start_time\n",
    "    print(\"Aggregate data\")\n",
    "    eva_mean = eva.groupby([\"update_every\", \"group_size\", \"step\"]).mean()[[\"value\", \"timestamp\"]]\n",
    "    eva_mean.reset_index(inplace=True)\n",
    "    eva_std = eva.groupby([\"update_every\", \"group_size\", \"step\"]).std()[[\"value\", \"timestamp\"]]\n",
    "    eva_std.reset_index(inplace=True)\n",
    "    return eva_mean, eva_std"
   ]
  },
  {
   "cell_type": "markdown",
   "metadata": {},
   "source": [
    "# Plots"
   ]
  },
  {
   "cell_type": "code",
   "execution_count": 4,
   "metadata": {},
   "outputs": [],
   "source": [
    "from ipywidgets import interact, IntSlider"
   ]
  },
  {
   "cell_type": "code",
   "execution_count": 10,
   "metadata": {},
   "outputs": [
    {
     "name": "stdout",
     "output_type": "stream",
     "text": [
      "Load data from database\n"
     ]
    },
    {
     "name": "stderr",
     "output_type": "stream",
     "text": [
      "/Users/phillip/.local/share/virtualenvs/actix-telepathy-syeEGSfw/lib/python3.7/site-packages/ipykernel_launcher.py:6: TqdmDeprecationWarning: This function will be removed in tqdm==5.0.0\n",
      "Please use `tqdm.notebook.tqdm` instead of `tqdm.tqdm_notebook`\n",
      "  \n"
     ]
    },
    {
     "data": {
      "application/vnd.jupyter.widget-view+json": {
       "model_id": "76c32add083847c99012892a56e4ad83",
       "version_major": 2,
       "version_minor": 0
      },
      "text/plain": [
       "HBox(children=(HTML(value='Transform timestamps to relative time'), FloatProgress(value=0.0, max=57.0), HTML(v…"
      ]
     },
     "metadata": {},
     "output_type": "display_data"
    },
    {
     "name": "stdout",
     "output_type": "stream",
     "text": [
      "\n",
      "Aggregate data\n"
     ]
    }
   ],
   "source": [
    "eva_mean, eva_std = load_data(where=\"centralized is False\")"
   ]
  },
  {
   "cell_type": "markdown",
   "metadata": {},
   "source": [
    "## Single"
   ]
  },
  {
   "cell_type": "code",
   "execution_count": 7,
   "metadata": {},
   "outputs": [
    {
     "data": {
      "application/vnd.jupyter.widget-view+json": {
       "model_id": "17496dd54b6247b9a95e3b8633ba725c",
       "version_major": 2,
       "version_minor": 0
      },
      "text/plain": [
       "interactive(children=(IntSlider(value=20, description='update_every', max=20, min=20), IntSlider(value=1, desc…"
      ]
     },
     "metadata": {},
     "output_type": "display_data"
    }
   ],
   "source": [
    "@interact\n",
    "def plot(\n",
    "    update_every=IntSlider(min=eva_mean.update_every.min(), max=eva_mean.update_every.max()),\n",
    "    group_size=IntSlider(min=eva_mean.group_size.min(), max=eva_mean.group_size.max()),\n",
    "    timestamp=False\n",
    "):\n",
    "    data = eva_mean[(eva_mean.update_every == update_every) & (eva_mean.group_size == group_size)]\n",
    "    data_std = eva_std[(eva_std.update_every == update_every) & (eva_std.group_size == group_size)]\n",
    "    x = data.timestamp if timestamp else data.step\n",
    "    plt.plot(x, data.value)\n",
    "    plt.fill_between(x, data.value - data_std.value, data.value + data_std.value, alpha=0.3)\n",
    "    plt.title(f\"update every {update_every} epochs with group size {group_size}\")\n",
    "    plt.xlabel(\"Seconds\" if timestamp else \"Epoch\")\n",
    "    plt.ylabel(\"Test Accuracy\")\n",
    "    plt.show()"
   ]
  },
  {
   "cell_type": "markdown",
   "metadata": {},
   "source": [
    "## Update Every"
   ]
  },
  {
   "cell_type": "code",
   "execution_count": 11,
   "metadata": {},
   "outputs": [
    {
     "data": {
      "application/vnd.jupyter.widget-view+json": {
       "model_id": "1c889e9966d747e6ae93ea17c3df8f89",
       "version_major": 2,
       "version_minor": 0
      },
      "text/plain": [
       "interactive(children=(IntSlider(value=1, description='group_size', max=9, min=1), Checkbox(value=False, descri…"
      ]
     },
     "metadata": {},
     "output_type": "display_data"
    }
   ],
   "source": [
    "@interact\n",
    "def plot(\n",
    "    group_size=IntSlider(min=eva_mean.group_size.min(), max=eva_mean.group_size.max()),\n",
    "    timestamp=False\n",
    "):\n",
    "    for update_every in eva_mean.update_every.unique():\n",
    "        data = eva_mean[(eva_mean.update_every == update_every) & (eva_mean.group_size == group_size)]\n",
    "        data_std = eva_std[(eva_std.update_every == update_every) & (eva_std.group_size == group_size)]\n",
    "        x = data.timestamp if timestamp else data.step\n",
    "        plt.plot(x, data.value, label=update_every)\n",
    "        plt.fill_between(x, data.value - data_std.value, data.value + data_std.value, alpha=0.3)\n",
    "    plt.title(f\"update every nth epochs with group size {group_size}\")\n",
    "    plt.xlabel(\"Seconds\" if timestamp else \"Epoch\")\n",
    "    plt.ylabel(\"Test Accuracy\")\n",
    "    plt.legend()\n",
    "    plt.show()"
   ]
  },
  {
   "cell_type": "markdown",
   "metadata": {},
   "source": [
    "## Group Size"
   ]
  },
  {
   "cell_type": "code",
   "execution_count": 12,
   "metadata": {
    "scrolled": false
   },
   "outputs": [
    {
     "data": {
      "application/vnd.jupyter.widget-view+json": {
       "model_id": "1488bb67122e4b4ea764b27de72b076c",
       "version_major": 2,
       "version_minor": 0
      },
      "text/plain": [
       "interactive(children=(IntSlider(value=1, description='update_every', max=20, min=1), Checkbox(value=False, des…"
      ]
     },
     "metadata": {},
     "output_type": "display_data"
    }
   ],
   "source": [
    "@interact\n",
    "def plot(\n",
    "    update_every=IntSlider(min=eva_mean.update_every.min(), max=eva_mean.update_every.max()),\n",
    "    timestamp=False\n",
    "):\n",
    "    for group_size in eva_mean.group_size.unique():\n",
    "        data = eva_mean[(eva_mean.update_every == update_every) & (eva_mean.group_size == group_size)]\n",
    "        data_std = eva_std[(eva_std.update_every == update_every) & (eva_std.group_size == group_size)]\n",
    "        x = data.timestamp if timestamp else data.step\n",
    "        plt.plot(x, data.value, label=group_size)\n",
    "        plt.fill_between(x, data.value - data_std.value, data.value + data_std.value, alpha=0.3)\n",
    "    plt.title(f\"update every {update_every} epochs with group size n\")\n",
    "    plt.xlabel(\"Seconds\" if timestamp else \"Epoch\")\n",
    "    plt.ylabel(\"Test Accuracy\")\n",
    "    plt.legend()\n",
    "    plt.show()"
   ]
  },
  {
   "cell_type": "markdown",
   "metadata": {},
   "source": [
    "## Less Updates"
   ]
  },
  {
   "cell_type": "code",
   "execution_count": 17,
   "metadata": {},
   "outputs": [
    {
     "name": "stdout",
     "output_type": "stream",
     "text": [
      "Load data from database\n"
     ]
    },
    {
     "name": "stderr",
     "output_type": "stream",
     "text": [
      "/Users/phillip/.local/share/virtualenvs/actix-telepathy-syeEGSfw/lib/python3.7/site-packages/ipykernel_launcher.py:6: TqdmDeprecationWarning: This function will be removed in tqdm==5.0.0\n",
      "Please use `tqdm.notebook.tqdm` instead of `tqdm.tqdm_notebook`\n",
      "  \n"
     ]
    },
    {
     "data": {
      "application/vnd.jupyter.widget-view+json": {
       "model_id": "824b6640484a43c2a12ba261bbd073c8",
       "version_major": 2,
       "version_minor": 0
      },
      "text/plain": [
       "HBox(children=(HTML(value='Transform timestamps to relative time'), FloatProgress(value=0.0, max=27.0), HTML(v…"
      ]
     },
     "metadata": {},
     "output_type": "display_data"
    },
    {
     "name": "stdout",
     "output_type": "stream",
     "text": [
      "\n",
      "Aggregate data\n"
     ]
    }
   ],
   "source": [
    "eva_mean, eva_std = load_data(where=\"group_size > 5 and update_every > 5\")"
   ]
  },
  {
   "cell_type": "code",
   "execution_count": 18,
   "metadata": {},
   "outputs": [
    {
     "data": {
      "application/vnd.jupyter.widget-view+json": {
       "model_id": "95d2dc428a6148aeb927aa8ed11d3d25",
       "version_major": 2,
       "version_minor": 0
      },
      "text/plain": [
       "interactive(children=(IntSlider(value=6, description='group_size', max=8, min=6), Checkbox(value=False, descri…"
      ]
     },
     "metadata": {},
     "output_type": "display_data"
    }
   ],
   "source": [
    "@interact\n",
    "def plot(\n",
    "    group_size=IntSlider(min=eva_mean.group_size.min(), max=eva_mean.group_size.max()),\n",
    "    timestamp=False\n",
    "):\n",
    "    for update_every in eva_mean.update_every.unique():\n",
    "        data = eva_mean[(eva_mean.update_every == update_every) & (eva_mean.group_size == group_size)]\n",
    "        data_std = eva_std[(eva_std.update_every == update_every) & (eva_std.group_size == group_size)]\n",
    "        x = data.timestamp if timestamp else data.step\n",
    "        plt.plot(x, data.value, label=update_every)\n",
    "        plt.fill_between(x, data.value - data_std.value, data.value + data_std.value, alpha=0.3)\n",
    "    plt.title(f\"update every nth epochs with group size {group_size}\")\n",
    "    plt.xlabel(\"Seconds\" if timestamp else \"Epoch\")\n",
    "    plt.ylabel(\"Test Accuracy\")\n",
    "    plt.legend()\n",
    "    plt.show()"
   ]
  },
  {
   "cell_type": "markdown",
   "metadata": {},
   "source": [
    "## Bigger Groups"
   ]
  },
  {
   "cell_type": "code",
   "execution_count": 19,
   "metadata": {},
   "outputs": [
    {
     "data": {
      "application/vnd.jupyter.widget-view+json": {
       "model_id": "0581245682464d909586e15d40e542e0",
       "version_major": 2,
       "version_minor": 0
      },
      "text/plain": [
       "interactive(children=(IntSlider(value=7, description='update_every', max=15, min=7), Checkbox(value=False, des…"
      ]
     },
     "metadata": {},
     "output_type": "display_data"
    }
   ],
   "source": [
    "@interact\n",
    "def plot(\n",
    "    update_every=IntSlider(min=eva_mean.update_every.min(), max=eva_mean.update_every.max()),\n",
    "    timestamp=False\n",
    "):\n",
    "    for group_size in eva_mean.group_size.unique():\n",
    "        data = eva_mean[(eva_mean.update_every == update_every) & (eva_mean.group_size == group_size)]\n",
    "        data_std = eva_std[(eva_std.update_every == update_every) & (eva_std.group_size == group_size)]\n",
    "        x = data.timestamp if timestamp else data.step\n",
    "        plt.plot(x, data.value, label=group_size)\n",
    "        plt.fill_between(x, data.value - data_std.value, data.value + data_std.value, alpha=0.3)\n",
    "    plt.title(f\"update every {update_every} epochs with group size n\")\n",
    "    plt.xlabel(\"Seconds\" if timestamp else \"Epoch\")\n",
    "    plt.ylabel(\"Test Accuracy\")\n",
    "    plt.legend()\n",
    "    plt.show()"
   ]
  },
  {
   "cell_type": "code",
   "execution_count": null,
   "metadata": {},
   "outputs": [],
   "source": []
  }
 ],
 "metadata": {
  "kernelspec": {
   "display_name": "actix-telepatyh",
   "language": "python",
   "name": "actix-telepatyh"
  },
  "language_info": {
   "codemirror_mode": {
    "name": "ipython",
    "version": 3
   },
   "file_extension": ".py",
   "mimetype": "text/x-python",
   "name": "python",
   "nbconvert_exporter": "python",
   "pygments_lexer": "ipython3",
   "version": "3.7.8"
  }
 },
 "nbformat": 4,
 "nbformat_minor": 4
}
